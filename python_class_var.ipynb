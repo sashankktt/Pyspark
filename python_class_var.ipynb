{
 "cells": [
  {
   "cell_type": "code",
   "execution_count": 7,
   "metadata": {},
   "outputs": [
    {
     "name": "stdout",
     "output_type": "stream",
     "text": [
      "<__main__.Employee object at 0xb42df56c>\n",
      "sashank\n",
      "sashank.kotta@company.com\n",
      "3000\n",
      "3120\n",
      "sashank kotta sashank.kotta@company.com\n",
      "{'first': 'sashank', 'pay': 3120, 'last': 'kotta', 'email': 'sashank.kotta@company.com'}\n"
     ]
    }
   ],
   "source": [
    "class Employee:\n",
    "    raise_amt = 1.04\n",
    "    \n",
    "    def __init__(self,first,last,pay):\n",
    "        self.first = first\n",
    "        self.last = last\n",
    "        self.pay = pay\n",
    "        self.email = first + '.' + last + '@company.com'\n",
    "    \n",
    "    def Empdetails(self):\n",
    "        return '{} {} {}'.format(self.first,self.last,self.email)\n",
    "    \n",
    "    def apply_raise(self):\n",
    "        self.pay = int(self.pay*self.raise_amt)\n",
    "    \n",
    "emp_1 = Employee('sashank','kotta',3000)\n",
    "\n",
    "print(emp_1)\n",
    "print(emp_1.first)\n",
    "print(emp_1.email)\n",
    "print(emp_1.pay)\n",
    "emp_1.apply_raise()\n",
    "print(emp_1.pay)\n",
    "print(emp_1.Empdetails())\n",
    "print(emp_1.__dict__)"
   ]
  }
 ],
 "metadata": {
  "kernelspec": {
   "display_name": "Python 3",
   "language": "python",
   "name": "python3"
  },
  "language_info": {
   "codemirror_mode": {
    "name": "ipython",
    "version": 3
   },
   "file_extension": ".py",
   "mimetype": "text/x-python",
   "name": "python",
   "nbconvert_exporter": "python",
   "pygments_lexer": "ipython3",
   "version": "3.5.2"
  }
 },
 "nbformat": 4,
 "nbformat_minor": 2
}
